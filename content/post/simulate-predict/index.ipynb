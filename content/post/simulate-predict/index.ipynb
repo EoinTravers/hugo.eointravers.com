{
 "cells": [
  {
   "cell_type": "markdown",
   "metadata": {},
   "source": [
    "---\n",
    "title: \"Prediction through Simulation\"\n",
    "summary: \"Or, if you want to understand and predict something, make a toy model of it\"\n",
    "date: 2020-05-12\n",
    "slug: \"predict-simulate\"\n",
    "source: jupyter\n",
    "---\n"
   ]
  },
  {
   "cell_type": "markdown",
   "metadata": {},
   "source": [
    "> Click the button below to run an interactive version of this post in Google Colab.\n",
    "> There are some nice interactive widgets here that run on Colab, but have been replaced by GIFs \n",
    "> on this blog. If you're not playing with the widgets yourself, you're missing out.\n",
    "\n",
    "[![Open In Colab](https://colab.research.google.com/assets/colab-badge.svg)](https://colab.research.google.com/drive/1t4zWK_xfoNRxMtzS3b5qQ-8bavBGAnkT?usp=sharing)\n",
    "\n",
    "Not too long ago, I interviewed for a job that I  was quite keen on getting.\n",
    "It's now been $d$ days, and I haven't heard back.\n",
    "Are they going to phone me?\n",
    "Most people in this situation would try not to worry about it too much.\n",
    "Unlike most people, however, I know *Monte Carlo methods*!\n",
    "In this post, \n",
    "I use a *Bayesian Monte Carlo* approach\n",
    "to estimate the probability that they're going to phone and offer me a job.\n",
    "Here goes."
   ]
  },
  {
   "cell_type": "markdown",
   "metadata": {},
   "source": [
    "## Monte Carlo Methods\n",
    "\n",
    "In Monte Carlo methods, we use simulations to estimate quantities that are difficult to otherwise calculate.\n",
    "I've written a little more about Monte Carlo methods [here](eointravers.com/post/montecarlo/).\n",
    "In this case, we're going to simulate how companies hire people after an interview.\n",
    "To do this, we're going to assume a particular model of how this works,\n",
    "and we're going to make some assumptions about the parameters of this model.\n",
    "For example, we're going to make assumptions about the likelihood that other candidates better than me,\n",
    "the number of days it takes for a company to make a decision,\n",
    "and the probability of someone turning down the job if offered it.\n",
    "We want to combine this information with our single data point -\n",
    "how many days have passed without me hearing from them -\n",
    "and use this combined knowledge to make predictions about the world.\n",
    "\n",
    "In Bayesian terms, we can say we're assuming \n",
    "a particular model $\\mathcal{M}$,\n",
    "with prior estimates $P(\\theta)$ for our model parameters $\\theta$.\n",
    "to make predictions about some other quantity,\n",
    "$P(y | \\theta, x)$.\n",
    "If this isn't clear, don't stress,\n",
    "as we'll be working through a concrete example.\n"
   ]
  },
  {
   "cell_type": "markdown",
   "metadata": {},
   "source": [
    "## How do companies hire?\n",
    "\n",
    "Let's imagine a simple model of how hiring works.\n",
    "We'll assume\n",
    "\n",
    "- Of the interview candidates, $n$ were better than me.\n",
    "  If $n=0$, I'm the first choice. $n=1$ means I'm the second preference, and so on.\n",
    "  We don't know the value of $n$, but we can make some weak assumptions.\n",
    "  Since this is a Bayesian analysis, we can use a prior distribution to encode\n",
    "  what values of $n$ we think are likely. \n",
    "  For now, we'll call this prior distribution $P(n)$.\n",
    "  We can flesh out these distributions later.\n",
    "- It takes a company $\\tau$ days to make a decision. \n",
    "  We'll call our prior distribution for this $P(\\tau)$.\n",
    "- If someone who isn't me is offered the job,\n",
    "  there probability that they'll accept is $\\gamma$.\n",
    "  We'll assume a single value of $\\gamma$, \n",
    "  but explore the effects of varying this  value.\n",
    "- It takes someone $\\omega$ days to decide \n",
    "  whether or not to accept the job and to let the company know.\n",
    "  Again, we'll assume a prior distribution $P(\\omega)$.\n",
    "- Finally, there is some probability, $\\kappa$,\n",
    "  that the company just never phones me back.\n",
    "  I originally left this part of the model out,\n",
    "  but without it the model produces some weird predictions \n",
    "  after long intervals.\n",
    "  \n"
   ]
  },
  {
   "cell_type": "markdown",
   "metadata": {},
   "source": [
    "What do our prior distributions look like?\n",
    "In this problem, the **[geometric distribution](https://en.wikipedia.org/wiki/Geometric_distribution)** is a nice option for all three of our priors:\n",
    "$P(n)$, $P(\\tau)$, and $P(\\omega)$.\n",
    "The easiest way to think of the geometric distribution\n",
    "is that it describes the number of coin tosses \n",
    "you would expect to come up tails before one comes up heads.\n",
    "It has only one parameter, which we'll call $\\lambda$,\n",
    "which is the probability of each individual toss coming up heads.\n",
    "With different values of $\\lambda$, it looks like this:"
   ]
  },
  {
   "cell_type": "code",
   "execution_count": null,
   "metadata": {},
   "outputs": [],
   "source": [
    "# Import stuff\n",
    "import numpy as np\n",
    "from scipy import stats\n",
    "import pandas as pd\n",
    "import matplotlib.pyplot as plt\n",
    "from matplotlib import rcParams\n",
    "import seaborn as sns\n",
    "# Set up plots defaults\n",
    "rcParams['figure.figsize'] = (6, 4)\n",
    "rcParams['font.size'] = 18\n",
    "rcParams['axes.spines.top'] = False\n",
    "rcParams['axes.spines.right'] = False"
   ]
  },
  {
   "cell_type": "code",
   "execution_count": null,
   "metadata": {},
   "outputs": [],
   "source": [
    "n_flips = np.arange(6)\n",
    "lambdas = [.1, .5, .9]\n",
    "for l in lambdas:\n",
    "    # Calculate mass for n_flips + 1 to get \n",
    "    # number of tails before first heads\n",
    "    # See https://en.wikipedia.org/wiki/Geometric_distribution\n",
    "    d = stats.geom.pmf(n_flips + 1, p=l)\n",
    "    plt.plot(n_flips, d, '-o',\n",
    "             label='$\\lambda = %.2f$' % l)\n",
    "plt.legend()\n",
    "plt.xlabel('Number of flips before HEADS')\n",
    "plt.ylabel('Probability')\n",
    "plt.ylim(0, 1)\n",
    "plt.title('The Geometric distribution');"
   ]
  },
  {
   "cell_type": "markdown",
   "metadata": {},
   "source": [
    "Our prior distributions are\n",
    "\n",
    "$$\n",
    "\\begin{align}\n",
    "n      &\\sim \\text{Geom}(\\lambda_n)\\newline\n",
    "\\tau   &\\sim \\text{Geom}(\\lambda_{\\tau})\\newline\n",
    "\\omega &\\sim \\text{Geom}(\\lambda_{\\omega})\\newline\n",
    "\\end{align}\n",
    "$$\n",
    "\n",
    "$\\lambda_{\\tau}$ and $\\lambda_{\\omega}$ have simple interpretations\n",
    "as the probability that the company will reach a decision ($\\tau$)\n",
    "and the probability that a candidate will decide whether to take the job ($\\omega$)\n",
    "with each day that does by.\n",
    "$\\lambda_n$ isn't as easy to interpret,\n",
    "and we might wish to consider other parameterisations,\n",
    "but this works well enough for a half-serious blog post.\n",
    "Lower values of $\\lambda_n$ reflect higher probabilities\n",
    "than I'm the best candidate. With higher values, it becomes\n",
    "increasingly likely that there will be several candidates better than me.\n",
    "\n",
    "For our other two parameters, $\\gamma$ and $\\kappa$,\n",
    "we're going to just assume a single value as our prior.\n",
    "Recall that $\\gamma$ is the probability that someone will take the job if offered it, while $\\kappa$ is the probability that the company forgets to contact me if I don't get the job.\n",
    "\n",
    "All of this leaves us with just four prior parameters we need to set:\n",
    "$\\theta = [\\lambda_n, \\lambda_{\\tau}, \\lambda_{\\omega}, \\gamma, \\kappa]$.\n",
    "\n",
    "> I'm referring to these quantitites as *priors*:\n",
    "> Infomation we know in advance, before seeing the current data.\n",
    "> In Bayesian inference, we often want to update our prior beliefs in light of new evidence,\n",
    "> for example by expecting decisions to be made quickly \n",
    "> at future interviews if a decision is made quickly here.\n",
    "> In this case, we only want to make a prediction about the current scenario."
   ]
  },
  {
   "cell_type": "markdown",
   "metadata": {},
   "source": [
    "This model specifies what data we'll see under different circumstances.\n",
    "\n",
    "- If I'm the best candidate ($n = 0$),\n",
    "  I'll be offered the job after $\\tau$ days,\n",
    "  where $\\tau \\sim P(\\tau)$\n",
    "  (the decision time is drawn randomly from the prior distribution of likely decision times).\n",
    "- If $n$ candidates are better than me,\n",
    "  and the $m$th candidate accepts the job,\n",
    "  I'll be told the bad news after $\\tau + \\omega_1 + \\omega_2 + \\dots + \\omega_m$ days,\n",
    "  where $\\omega \\sim P(\\omega)$\n",
    "  (the times taken for each candidate to make up their minds\n",
    "  is drawn randomly from the prior distribution of likely times).\n",
    "- If $n$ candidates are better than me,\n",
    "  but they all turn down the job,\n",
    "  I'll be offered the job after $\\tau + \\omega_1 + \\omega_2 + \\dots + \\omega_n$ days,\n",
    "  where $\\omega \\sim P(\\omega)$.\n",
    "- In simulations where I'm not offered a job, $\\kappa$ is the probability \n",
    "  that I'll never hear from them (which the model captures as an infinite waiting time).\n"
   ]
  },
  {
   "cell_type": "markdown",
   "metadata": {},
   "source": [
    "## Simulating the world\n",
    "\n",
    "To begin, let's write a function that runs a single simulation.\n",
    "This code will be slow, but relatively easy to understand."
   ]
  },
  {
   "cell_type": "code",
   "execution_count": null,
   "metadata": {},
   "outputs": [],
   "source": [
    "def do_simulation(theta: list):\n",
    "    '''Run one simulation of the hiring process.\n",
    "    `theta` is a list/array of [lambda_n, lambda_tau, lambda_omega, gamma, kappa]\n",
    "    Returns (n, tau, days_to_call, job_for_me)\n",
    "    '''\n",
    "    lambda_n, lambda_tau, lambda_omega, gamma, kappa = theta\n",
    "    # Sample one value of n and tau from their priors\n",
    "    n = stats.geom(lambda_n).rvs() - 1      # Candidates ahead of me\n",
    "    tau = stats.geom(lambda_tau).rvs() - 1  # Days to make initial decision\n",
    "    job_for_me = True     # Set to False if someone else gets it first\n",
    "    total_omega = 0\n",
    "    for m in range(n):\n",
    "        omega = stats.geom(lambda_omega).rvs() - 1  # Time taken for them to respond\n",
    "        total_omega += omega\n",
    "        they_take_job = stats.binom(p=gamma, n=1).rvs()\n",
    "        if they_take_job:\n",
    "            job_for_me = False\n",
    "            if stats.binom(p=kappa, n=1).rvs():\n",
    "                # They never call\n",
    "                total_omega = np.inf\n",
    "            break\n",
    "    days_to_call = tau + total_omega\n",
    "    return n, tau, total_omega, days_to_call, job_for_me"
   ]
  },
  {
   "cell_type": "code",
   "execution_count": null,
   "metadata": {},
   "outputs": [],
   "source": [
    "# Let's run it a few times to make sure it works.\n",
    "theta = [.5, .5, .5, .5, .1]\n",
    "for i in range(5):\n",
    "    print(do_simulation(theta))"
   ]
  },
  {
   "cell_type": "markdown",
   "metadata": {},
   "source": [
    "This is all very good, but our code is slow.\n",
    "Let's try to run 1000 simulations."
   ]
  },
  {
   "cell_type": "code",
   "execution_count": null,
   "metadata": {},
   "outputs": [],
   "source": [
    "def do_slow_simulations(theta: list, nsims=1000):\n",
    "    sims = [do_simulation(theta)\n",
    "            for i in range(nsims)]\n",
    "    return pd.DataFrame(sims, columns=['n', 'tau', 'total_omega', 'days_to_call', 'job_for_me'])\n",
    "\n",
    "%time slow_sims = do_slow_simulations(theta, nsims=1000)"
   ]
  },
  {
   "cell_type": "markdown",
   "metadata": {},
   "source": [
    "Since we'll want to run lots of simulations with different parameters,\n",
    "it's worth rewriting our code in a way that's a little harder to follow,\n",
    "but much faster to run.\n",
    "Since we've written the clean, slow code, \n",
    "we can always compare the results to make sure we've not doing anything stupid in our faster version."
   ]
  },
  {
   "cell_type": "code",
   "execution_count": null,
   "metadata": {},
   "outputs": [],
   "source": [
    "def do_simulations(theta: list, nsims=1000):\n",
    "    '''Simulation hiring process `nsims` times.\n",
    "    `theta` is a list/array of [lambda_n, lambda_tau, lambda_omega, gamma]\n",
    "    Returns pd.DataFrame with columns ['job_for_me', 'days_before_call']\n",
    "    '''\n",
    "    lambda_n, lambda_tau, lambda_omega, gamma, kappa = theta\n",
    "    # Days to make initial decision.\n",
    "    tau = stats.geom(lambda_tau).rvs(nsims) - 1\n",
    "    # Candidates ahead of me.\n",
    "    n = stats.geom(lambda_n).rvs(nsims) - 1\n",
    "    # N candidates who turn down the job before one accepts it.\n",
    "    m = stats.geom(gamma).rvs(nsims) - 1\n",
    "    n_called_before_me = np.where(n < m, n, m)\n",
    "    # I get the job if everyone ahead of me turns it down.\n",
    "    job_for_me = np.where(m >= n, 1, 0)\n",
    "    # Vector of response times for every candidate\n",
    "    _omega = stats.geom(lambda_omega).rvs(m.sum() * nsims) - 1\n",
    "    # Total response times for all candidates ahead of me in each simulation\n",
    "    total_omega = np.array([np.sum(_omega[i:i+_n]) \n",
    "                            for i, _n in enumerate(n_called_before_me)])\n",
    "    # Some chance they'll never call\n",
    "    never_call = stats.binom(p=kappa, n=1).rvs(nsims)\n",
    "    # But only in cases where I don't get the job\n",
    "    never_call = np.where(job_for_me, 0, never_call)\n",
    "    days_to_call = np.where(never_call==0,\n",
    "                            # Decision time plus response time of people ahead of me\n",
    "                            tau + total_omega,\n",
    "                            np.inf)\n",
    "    result = pd.DataFrame([n, tau, total_omega, days_to_call, job_for_me], \n",
    "                          index=['n', 'tau', 'total_omega', 'days_to_call', 'job_for_me']).T\n",
    "    return result"
   ]
  },
  {
   "cell_type": "code",
   "execution_count": null,
   "metadata": {},
   "outputs": [],
   "source": [
    "%time sims = do_simulations(theta, nsims=1000)\n",
    "sims.head(5)"
   ]
  },
  {
   "cell_type": "code",
   "execution_count": null,
   "metadata": {},
   "outputs": [],
   "source": [
    "# Let's take a look at our simulations\n",
    "def plot_sims_hist(sims: pd.DataFrame):\n",
    "    '''Plot simulated outcomes as a histogram'''\n",
    "    days = [df['days_to_call'].values for days, df in sims.groupby('job_for_me')]\n",
    "    fig, axes = plt.subplots(1, 2, figsize=(8, 4), sharey=True,\n",
    "                             gridspec_kw={'width_ratios': [5, 1]})\n",
    "    plt.sca(axes[0])\n",
    "    bins = np.arange(0, 15, 1)\n",
    "    plt.hist(days, label=[\"Not hired\", \"I'm Hired\"], bins=bins)\n",
    "    plt.legend(title='Outcome')\n",
    "    plt.xlabel('Days since interview')\n",
    "    plt.ylabel('Number of simulations')\n",
    "    plt.sca(axes[1])\n",
    "    plt.bar(0, np.sum(days[0]==np.inf), width=.25)\n",
    "    plt.xlim(-1, 1)\n",
    "    axes[1].spines['left'].set_visible(False)\n",
    "    plt.xticks([0], ['Never call'])\n",
    "    return fig, axes\n",
    "\n",
    "plot_sims_hist(sims);"
   ]
  },
  {
   "cell_type": "markdown",
   "metadata": {},
   "source": [
    "# Have I got the job?\n",
    "\n",
    "With these simulation parameters, the estimated probability that I will be offered the job eventually \n",
    "is just the proportion of simulations in which I'm offered the job."
   ]
  },
  {
   "cell_type": "code",
   "execution_count": null,
   "metadata": {},
   "outputs": [],
   "source": [
    "sims['job_for_me'].mean()"
   ]
  },
  {
   "cell_type": "markdown",
   "metadata": {},
   "source": [
    "However, $d$ days have already passed without me hearing back.\n",
    "What is the probability I'll be offered the job now?\n",
    "To find out, we just have to check on what proportion of simulations\n",
    "*where I haven't heard back by day $d$* \n",
    "do I go on to be offered the job."
   ]
  },
  {
   "cell_type": "code",
   "execution_count": null,
   "metadata": {},
   "outputs": [],
   "source": [
    "d = 7  # Let's say I haven't heard back in 7 days.\n",
    "sims[sims['days_to_call'] > d]['job_for_me'].mean()"
   ]
  },
  {
   "cell_type": "markdown",
   "metadata": {},
   "source": [
    "We can repeat this over a range of days to see how the probability \n",
    "changes with each day that goes by."
   ]
  },
  {
   "cell_type": "code",
   "execution_count": null,
   "metadata": {},
   "outputs": [],
   "source": [
    "def plot_curve(sims):\n",
    "    '''Plot prob. I've got the job after d days'''\n",
    "    days = np.arange(0, 15)\n",
    "    conditional_outcomes = [sims[sims['days_to_call'] > d]['job_for_me'] for d in days]\n",
    "    prob = np.array([x.mean() for x in conditional_outcomes])\n",
    "    plt.plot(days, prob, '-o')\n",
    "    plt.xlabel('Days without hearing back')\n",
    "    plt.ylabel(\"P(I'll be hired)\")\n",
    "    plt.ylim(0, 1)\n",
    "    plt.xticks(days[::2]);\n",
    "    \n",
    "plot_curve(sims)"
   ]
  },
  {
   "cell_type": "markdown",
   "metadata": {},
   "source": [
    "The curve is a little noisy due to the random nature of the simulations,\n",
    "but clearly shows that the chance of being hired drops over time.\n",
    "We can see how noisy the results are by repeating the simulations a few times.\n",
    "**This isn't the same thing as \"sampling from the posterior\" in Bayesian stats.\n",
    "This variability only occurs because we're running a limited number of simulations.\n",
    "With an infinite number of simulations, we would get the same curve every time.**\n"
   ]
  },
  {
   "cell_type": "code",
   "execution_count": null,
   "metadata": {},
   "outputs": [],
   "source": [
    "def plot_repeated_curve(theta, nsims=1000, nreps=25):\n",
    "    '''Plot repeated simulation curves. \n",
    "    Note that input is parameter list theta,\n",
    "    and not simulation results as in the other plotting functions.'''\n",
    "    days = np.arange(0, 15)\n",
    "    all_probs = []\n",
    "    for i in range(nreps):\n",
    "        sims = do_simulations(theta, nsims=nsims)\n",
    "        conditional_outcomes = [sims[sims['days_to_call'] > d]['job_for_me'] for d in days]\n",
    "        prob = np.array([x.mean() for x in conditional_outcomes])\n",
    "        all_probs.append(prob)\n",
    "        plt.plot(days, prob, alpha=.5, color='b')\n",
    "    mean_prob = np.array(all_probs).mean(0)\n",
    "    plt.plot(days, mean_prob, color='r', linewidth=3)\n",
    "    plt.xlabel('Days without hearing back')\n",
    "    plt.ylabel(\"P(I'll be hired)\")\n",
    "    plt.ylim(0, 1)\n",
    "    plt.xticks(days[::2])\n",
    "    \n",
    "plot_repeated_curve(theta, nreps=25)"
   ]
  },
  {
   "cell_type": "markdown",
   "metadata": {},
   "source": [
    "# Different Priors\n",
    "\n",
    "Of course, these predictions depend on the prior parameters we enter.\n",
    "Our next step is to see how our predictions change as we change these parameters.\n",
    "We could do this manually, by changing the code above and rerunning it with various parameter settings.\n",
    "Happily, there's an easier way, using the `ipywidgets` package.\n",
    "\n",
    "`ipywidgets` let's us quickly create interactive widgets within Jupyter notebooks.\n",
    "In this case, we're going to create widgets the plot the results of our simulations,\n",
    "with sliders to control the value of each parameter.\n",
    "If you're running this code on your own computer or on **Binder**,\n",
    "you can try this for yourself.\n",
    "If you're just reading the blog post,\n",
    "you'll have to settle for the gifs I recorded if the widgets in action.\n",
    "\n",
    "First, let's create the histogram of simulations with different parameters."
   ]
  },
  {
   "cell_type": "code",
   "execution_count": null,
   "metadata": {},
   "outputs": [],
   "source": [
    "from ipywidgets import interact, FloatSlider\n",
    "def fs(value, min, max, step, description=None):\n",
    "    '''Shorthand for ipywidgets.FloatSlider'''\n",
    "    return FloatSlider(value=value, min=min, \n",
    "                       max=max, step=step, \n",
    "                       description=description, \n",
    "                       continuous_update=False,\n",
    "                       style={'description_width': '250px'},\n",
    "                       layout={'width': '500px'})\n",
    "\n",
    "def make_interactive_widget(func):\n",
    "    '''Wrapper to ipywidgets.interact\n",
    "    Arguments to `func` must be:\n",
    "        lambda_n, lambda_tau, lambda_omega, gamma, kappa'''\n",
    "    interact(func, \n",
    "             lambda_n = fs(.5, .05, .95, .05, '$\\lambda_n$ (My ability)'),\n",
    "             lambda_tau = fs(.5, .05, .95, .05, '$\\lambda_{\\\\tau}$ (Speed of decision)'),\n",
    "             lambda_omega = fs(.5, .05, .95, .05, '$\\lambda_{\\omega}$(Speed of responses)'),\n",
    "             gamma = fs(.5, .05, .95, .05, '$\\gamma$ (P(Others accept))'),\n",
    "             kappa = fs(.05, .05, .95, .05, '$\\kappa$ (P(Never call))'));\n",
    "    \n",
    "def make_title(lambda_n, lambda_tau, lambda_omega, gamma, kappa):\n",
    "    return ('$\\lambda_n = %.2f, \\lambda_{\\\\tau} = %.2f, \\lambda_{\\\\omega} = %.2f, \\gamma = %.2f, \\kappa = %.2f$' %\n",
    "            (lambda_n, lambda_tau, lambda_omega, gamma, kappa))\n",
    "    \n",
    "def interactive_hist(lambda_n, lambda_tau, lambda_omega, gamma, kappa):\n",
    "    '''Create a histogram of simulations with these parameters'''\n",
    "    theta = [lambda_n, lambda_tau, lambda_omega, gamma, kappa]\n",
    "    sims = do_simulations(theta, nsims=1000)\n",
    "    plot_sims_hist(sims)\n",
    "    plt.title(make_title(lambda_n, lambda_tau, lambda_omega, gamma, kappa), fontdict={'size':14})"
   ]
  },
  {
   "cell_type": "code",
   "execution_count": null,
   "metadata": {},
   "outputs": [],
   "source": [
    "make_interactive_widget(interactive_hist)"
   ]
  },
  {
   "cell_type": "markdown",
   "metadata": {},
   "source": [
    "Then we can do the same for the probability curve."
   ]
  },
  {
   "cell_type": "code",
   "execution_count": null,
   "metadata": {},
   "outputs": [],
   "source": [
    "def interactive_curve(lambda_n, lambda_tau, lambda_omega, gamma, kappa):\n",
    "    theta = [lambda_n, lambda_tau, lambda_omega, gamma, kappa]\n",
    "    sims = do_simulations(theta, nsims=2000)\n",
    "    plot_curve(sims)\n",
    "    plt.title(make_title(lambda_n, lambda_tau, lambda_omega, gamma, kappa), fontdict={'size':14})"
   ]
  },
  {
   "cell_type": "code",
   "execution_count": null,
   "metadata": {},
   "outputs": [],
   "source": [
    "make_interactive_widget(interactive_curve)"
   ]
  },
  {
   "cell_type": "markdown",
   "metadata": {},
   "source": [
    "Finally, we can do the same with the repeated simulation curve.\n",
    "This takes longer to run, so is less snappy when used interactively."
   ]
  },
  {
   "cell_type": "code",
   "execution_count": null,
   "metadata": {},
   "outputs": [],
   "source": [
    "def interactive_repeated_curve(lambda_n, lambda_tau, \n",
    "                               lambda_omega, gamma, kappa):\n",
    "    plot_repeated_curve([lambda_n, lambda_tau, \n",
    "                         lambda_omega, gamma, kappa], nreps=25, nsims=500)\n",
    "    plt.title(make_title(lambda_n, lambda_tau, lambda_omega, gamma, kappa), fontdict={'size':14})\n",
    "\n",
    "    \n",
    "make_interactive_widget(interactive_repeated_curve)"
   ]
  },
  {
   "cell_type": "code",
   "execution_count": null,
   "metadata": {},
   "outputs": [],
   "source": []
  },
  {
   "cell_type": "code",
   "execution_count": null,
   "metadata": {},
   "outputs": [],
   "source": []
  }
 ],
 "metadata": {
  "kernelspec": {
   "display_name": "Python 3",
   "language": "python",
   "name": "python3"
  },
  "language_info": {
   "codemirror_mode": {
    "name": "ipython",
    "version": 3
   },
   "file_extension": ".py",
   "mimetype": "text/x-python",
   "name": "python",
   "nbconvert_exporter": "python",
   "pygments_lexer": "ipython3",
   "version": "3.7.4"
  }
 },
 "nbformat": 4,
 "nbformat_minor": 2
}
