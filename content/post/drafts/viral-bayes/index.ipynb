{
 "cells": [
  {
   "cell_type": "markdown",
   "metadata": {},
   "source": [
    "---\n",
    "title: \"Decision by sampling: Monte Carlo approaches to dealing with uncertainty\"\n",
    "summary: \"This is how I'm dealing with my anxiety\"\n",
    "date: 2020-03-27\n",
    "source: jupyter\n",
    "---\n"
   ]
  },
  {
   "cell_type": "markdown",
   "metadata": {},
   "source": [
    "Dealing with uncertainty is hard.\n",
    "Algebra is also hard.\n",
    "This post is a gentle introduction to a technique\n",
    "that lets you do the former,\n",
    "without having to do too much of the latter.\n",
    "To do this, we'll use two useful concepts from computer science and statistics:\n",
    "**Monte Carlo sampling**, and **Bayesian probability distributions**.\n",
    "\n",
    "> Note:\n",
    "> I wrote the first draft of this post early in the COVID lockdown,\n",
    "> finished it 6 weeks in. There will be coronavirus-related examples,\n",
    "> and the writing may be a little unhinged.\n",
    "> Be warned."
   ]
  },
  {
   "cell_type": "code",
   "execution_count": null,
   "metadata": {},
   "outputs": [],
   "source": [
    "import numpy as np\n",
    "import pandas as pd\n",
    "import matplotlib.pyplot as plt\n",
    "from scipy import stats\n",
    "from matplotlib import rcParams\n",
    "import seaborn as sns\n",
    "sns.set_style('whitegrid')\n",
    "rcParams['figure.figsize'] = (6, 4)\n",
    "rcParams['font.size'] = 18\n",
    "rcParams['axes.spines.top'] = False\n",
    "rcParams['axes.spines.right'] = False\n",
    "\n",
    "from ipywidgets import interact, FloatSlider\n",
    "def fs(value, min, max, step, description=None):\n",
    "    '''Shorthand for ipywidgets.FloatSlider'''\n",
    "    return FloatSlider(value=value, min=min, max=max, step=step, \n",
    "                       description=description, continuous_update=False)"
   ]
  },
  {
   "cell_type": "markdown",
   "metadata": {},
   "source": [
    "# Monte Carlo Sampling\n",
    "\n",
    "In *Monte Carlo* approaches, we use random simulations to answer questions \n",
    "that might otherwise require some difficult equations.\n",
    "Confusingly, they're also known in some fields \n",
    "as *numerical* approaches, and are contrasted with *analytic* approaches,\n",
    "where you just work out the correct equation.\n",
    "[Wikipedia tells us](https://en.wikipedia.org/wiki/Monte_Carlo_method#History) that,\n",
    "yes, Monte Carlo methods are named after the casino.\n",
    "I won't be talking in this post about \n",
    "[Markov Chain Monte Carlo](https://en.wikipedia.org/wiki/Markov_chain_Monte_Carlo),\n",
    "a particular Monte Carlo method that comes up a lot in Bayesian statistics."
   ]
  },
  {
   "cell_type": "markdown",
   "metadata": {},
   "source": [
    "Here's a simple Monte Carlo example.\n",
    "Let's say you want to know the area of a circle\n",
    "with a radius of $r$.\n",
    "We'll use a unit circle, $r=1$, in this example."
   ]
  },
  {
   "cell_type": "code",
   "execution_count": null,
   "metadata": {},
   "outputs": [],
   "source": [
    "def circle_plot():\n",
    "    fig, ax = plt.subplots(figsize=(5, 5))\n",
    "    plt.hlines(1, -1, 1)\n",
    "    plt.vlines(1, -1, 1)\n",
    "    plt.scatter(0, 0, marker='+', color='k')\n",
    "    plt.xlim(-1, 1)\n",
    "    plt.ylim(-1, 1)\n",
    "    circle = plt.Circle((0, 0), 1, facecolor='None', edgecolor='r')\n",
    "    ax.add_artist(circle)\n",
    "    return fig, ax\n",
    "\n",
    "circle_plot();"
   ]
  },
  {
   "cell_type": "markdown",
   "metadata": {},
   "source": [
    "Analytically, you know that the answer is $\\pi r^2$. \n",
    "What if we didn't know this equation?\n",
    "The Monte Carlo solution is as follows.\n",
    "We know that the area of the bounding square is $2r \\times 2r = 4r^2$\n",
    "We need to figure out what proportion of this square is taken up by the circle.\n",
    "To find out, we randomly select a large number of points in the square,\n",
    "and check if they're within $r$ of the center point $[0, 0]$."
   ]
  },
  {
   "cell_type": "code",
   "execution_count": null,
   "metadata": {},
   "outputs": [],
   "source": [
    "n = 1000 # Number of points to simulate\n",
    "x = np.random.uniform(low=-1, high=1, size=n)\n",
    "y = np.random.uniform(low=-1, high=1, size=n)\n",
    "# Distance from center (Pythagoras)\n",
    "dist_from_origin = np.sqrt(x**2 + y**2)\n",
    "# Check is distance is less than radius\n",
    "is_in_circle = dist_from_origin < 1\n",
    "\n",
    "# Plot results\n",
    "circle_plot()\n",
    "plt.scatter(x[is_in_circle], y[is_in_circle], color='b', s=2)     # Points in circle\n",
    "plt.scatter(x[~is_in_circle], y[~is_in_circle], color='k', s=2);  # Points outside circle\n",
    "\n",
    "m = is_in_circle.mean()\n",
    "print('%.4f of points are in the circle' % m)"
   ]
  },
  {
   "cell_type": "markdown",
   "metadata": {},
   "source": [
    "Since the area of the square is $4r^2$,\n",
    "and the circle takes up ~$0.78$ of the square,\n",
    "the area of the circle is roughly $0.78 \\times 4r^2 = 3.14r^2$.\n",
    "We've discovered $\\pi$."
   ]
  },
  {
   "cell_type": "markdown",
   "metadata": {},
   "source": [
    "## Bayesian Probability Distributions\n",
    "\n",
    "The term **Bayesian statistics** refers to a whole family of approach to statistical inference.\n",
    "What is common to all of these approaches is that they take probabilities \n",
    "to be statements about *subjective beliefs*.\n",
    "This means a Bayesian doctor can say things like \n",
    "\"*I'm 90% sure this patient has COVID-19*\",\n",
    "while a non-Bayesian doctor could only say something like \n",
    "\"*for every 100 patients with these symptoms, 90 will have it*\".\n",
    "If this differences doesn't make much sense to you,\n",
    "fear not, because a) you're not alone, and \n",
    "b) it doesn't matter for this post.\n",
    "\n",
    "The Bayesian approach gives us a useful way of thinking about uncertainty.\n",
    "If we're unsure about some number,\n",
    "we can replace it with a \n",
    "[*probability mass function*](https://en.wikipedia.org/wiki/Probability_mass_function)\n",
    "(if the number is discrete, like a count)\n",
    "or a \n",
    "[*probability density function*](https://en.wikipedia.org/wiki/Probability_density_function) \n",
    "(if the number is continuous, like a measurement)\n",
    "over possible values.\n",
    "\n",
    "For example, let's say you don't know how tall I am.\n",
    "I'm an adult Irish male,\n",
    "and we know that the heights of Irish men in general are \n",
    "normally distributed,\n",
    "with a mean of 70 and a standard deviation of 4 inches.\n",
    "This means you can use the distribution \n",
    "$Normal(70, 4)$,\n",
    "where $Normal(\\mu, \\sigma)$ standards for the \n",
    "Normal probability distribution function with mean $\\mu$ and standard deviation $\\sigma$."
   ]
  },
  {
   "cell_type": "code",
   "execution_count": null,
   "metadata": {},
   "outputs": [],
   "source": [
    "heights_to_plot = np.arange(50, 90, .1)\n",
    "pdf = stats.norm.pdf(heights_to_plot, 70, 4)\n",
    "plt.plot(heights_to_plot, pdf)\n",
    "plt.fill_between(heights_to_plot, pdf, 0, alpha=.1)\n",
    "plt.ylim(0, .11)\n",
    "plt.xlabel('Possible Heights (inches)')\n",
    "plt.ylabel('Belief that Eoin\\nmight be this tall')"
   ]
  },
  {
   "cell_type": "markdown",
   "metadata": {},
   "source": [
    "$Normal(\\mu, \\sigma)$\n",
    "is shorthand for a relatively complicated function\n",
    "\n",
    "$$\n",
    "Normal(\\mu, \\sigma) = \\frac{1}{\\sigma\\sqrt{2\\pi}} \n",
    "e^{\\frac{1}{2}(\\frac{x - \\mu}{\\sigma})^2}\n",
    "$$\n",
    "\n",
    "where $x$ is each particular height.\n",
    "I said at the outset that we wouldn't do very much maths.\n",
    "Luckily, you don't have to actual use this function.\n",
    "Instead, we can use our computers to quickly and easily\n",
    "**sample** a large number of values from this distribution,\n",
    "and use these samples as an estimate of my height."
   ]
  },
  {
   "cell_type": "code",
   "execution_count": null,
   "metadata": {},
   "outputs": [],
   "source": [
    "N = 10000\n",
    "height_samples = np.random.normal(70, 4, N)\n",
    "height_samples"
   ]
  },
  {
   "cell_type": "code",
   "execution_count": null,
   "metadata": {},
   "outputs": [],
   "source": [
    "plt.hist(height_samples, bins=np.arange(50, 90, 1))\n",
    "plt.xlabel('Height (Inches)')\n",
    "plt.ylabel('Samples where\\nEoin is this tall');"
   ]
  },
  {
   "cell_type": "markdown",
   "metadata": {},
   "source": [
    "Now that we have these samples, we can use them to answer questions.\n",
    "For instance, what's the probability that I'm taller than 6 foot (72 inches)?\n",
    "To find out, you need to find how much of the distribution is above this value.\n",
    "This is easy with the samples: it's the proportion of samples greater than this value."
   ]
  },
  {
   "cell_type": "code",
   "execution_count": null,
   "metadata": {},
   "outputs": [],
   "source": [
    "print('P(Eoin > 72 inches) = %.2f' % np.mean(height_samples > 72))"
   ]
  },
  {
   "cell_type": "markdown",
   "metadata": {},
   "source": [
    "One more:\n",
    "what's the probability that I'm taller than 5 foot 6, but less than 6 foot?"
   ]
  },
  {
   "cell_type": "code",
   "execution_count": null,
   "metadata": {},
   "outputs": [],
   "source": [
    "p = np.mean((height_samples > 66) & (height_samples < 72))\n",
    "print('P(66 < Eoin < 72) = %.2f' % p)"
   ]
  },
  {
   "cell_type": "markdown",
   "metadata": {},
   "source": [
    "So far, this isn't very exciting.\n",
    "You could obtain the same answers by just checking \n",
    "what proportion of Irish men are more than 6 foot tall, \n",
    "without using impressive terms like \"Bayesian\".\n",
    "\n",
    "This approaches comes into its own is\n",
    "when we must combine multiple sources of information.\n",
    "In Bayesian statistical modelling,\n",
    "this usually means combining our prior beliefs \n",
    "(like your beliefs about how tall I'm likely to be)\n",
    "with multiple data points.\n",
    "Here, we're going to look at a simpler example:\n",
    "making predictions based on uncertain knowledge.\n",
    "To do it, we're going to have to start talking about COVID-19. Sorry."
   ]
  },
  {
   "cell_type": "markdown",
   "metadata": {},
   "source": [
    "\n",
    "## Incubation Periods\n",
    "\n",
    "A few weeks ago, when I wrote the first draft of this post,\n",
    "the whole world was talking about incubation periods,\n",
    "specifically that it took up to two weeks for COVID symptoms to develop \n",
    "after contact with a carrier.\n",
    "This prompted some confusing infographics, like the one below from the BBC.\n",
    "\n",
    "<img style=\"max-width: 400px\" src=\"https://ichef.bbci.co.uk/news/624/cpsprodpb/58B3/production/_111370722_self_isolation_timetab_640_3x-nc.png\">\n"
   ]
  },
  {
   "cell_type": "markdown",
   "metadata": {},
   "source": [
    "Where does the 14 days figure come from?\n",
    "[Lauer et al (2020)](https://annals.org/aim/fullarticle/2762808/incubation-period-coronavirus-disease-2019-covid-19-from-publicly-reported) \n",
    "analysed incubation times from 181 cases, \n",
    "and concluded that the times followed a Log-Normal distribution\n",
    "with $\\mu = 1.621$ and $\\sigma = 0.418$.\n",
    "Note that these parameters are the mean and standard deviation\n",
    "of the log of the incubation time distribution,\n",
    "rather than the mean and standard deviation of the \n",
    "incubation times themselves.\n",
    "\n",
    "$$\n",
    "\\alpha \\sim \\text{Log-Normal}(1.621, 0.418)\n",
    "$$\n",
    "\n",
    "\n",
    "<img style=\"max-width: 400px\" src=\"https://raw.githubusercontent.com/HopkinsIDD/ncov_incubation/master/README_files/figure-markdown_strict/dic-plots-1.png\">\n",
    "\n",
    "They also posted their data and code to [this GitHub repository](https://github.com/HopkinsIDD/ncov_incubation).\n",
    "\n",
    "As we've seen above, since we don't know in advance\n",
    "the exact incubation time in individual cases,\n",
    "we can use simulated samples from this distribution instead."
   ]
  },
  {
   "cell_type": "code",
   "execution_count": null,
   "metadata": {},
   "outputs": [],
   "source": [
    "def histogram(x, label=None, bins=None, density=True):\n",
    "    '''We'll be doing lots of histograms, so here's a\n",
    "    funciton that makes them easier'''\n",
    "    plt.hist(x, bins=bins, density=density);\n",
    "    if label:\n",
    "        plt.xlabel(label)\n",
    "    if not density:\n",
    "        plt.yticks([])\n",
    "        plt.gca().axes.spines['left'].set_visible(False)\n",
    "    else:\n",
    "        plt.ylabel('Probability')\n",
    "        \n",
    "        \n",
    "n = 10000\n",
    "incubation_mu = 1.621\n",
    "incubation_sigma = 0.418\n",
    "incubation_times = np.random.lognormal(incubation_mu, incubation_sigma, n)\n",
    "## We could also use\n",
    "# incubation_times = stats.lognorm(loc=0, scale=np.exp(incubation_mu), s=incubation_sigma).rvs(n)\n",
    "histogram(incubation_times, u'Incubation time in days', bins=range(20))"
   ]
  },
  {
   "cell_type": "markdown",
   "metadata": {},
   "source": [
    "Note that we've set `density=True`, so instead of showing the number of simulated values in each bin,\n",
    "the histogram shows the *proportion* of vales in each bin."
   ]
  },
  {
   "cell_type": "markdown",
   "metadata": {},
   "source": [
    "##  Have you caught it?\n",
    "\n",
    "We can already use these samples to answer some questions.\n",
    "\n",
    "Let's say you're in full quarantine.\n",
    "Just before going in,\n",
    "you had to be somewhere risky,\n",
    "where there was a probability $\\alpha$ \n",
    "you picked up the virus.\n",
    "We'll start by assuming there was a fifty-fifty\n",
    "of picking up the virus, $\\alpha = .5$.\n",
    "Let's also assume for now (wrongly) that if you have the virus,\n",
    "you're guaranteed to develop symptoms eventually.\n",
    "\n",
    "After $d$ days in quarantine, you still haven't developed any symptoms.\n",
    "What is the probability that you've picked up the virus?\n",
    "We can work this out analytically,\n",
    "and we do below,\n",
    "but it's much easier to just run simulations here.\n",
    "To do this, we run $N$ simulations of the scenario described above.\n",
    "The rules of the simulations are as follows.\n",
    "\n",
    "- In each simulation, the probability of catching the virus is  $\\alpha$,\n",
    "  and the probability of not catching it is $1 - \\alpha$.\n",
    "  This is known as a [*Bernoulli distribution*](https://en.wikipedia.org/wiki/Bernoulli_distribution), with probability $\\alpha$.\n",
    "- In simulations where you do catch it, the length of your incubation period $\\tau$\n",
    "  is sampled randomly from the distribution \n",
    "  $\\text{Log-Normal}(1.621, 0.418)$\n",
    "- If you do have the virus, and $d \\gt \\tau$,\n",
    "  you have symptoms. Otherwise, you don't.\n",
    "\n",
    "We want to estimate $P(\\text{Has virus} | \\text{No symptoms by day }d)$.\n",
    "To do so, we check on how many of the simulations where no symptoms developed by day $d$\n",
    "do you in fact have the virus.\n",
    "Here's the code after 5 days, $d = 5$."
   ]
  },
  {
   "cell_type": "code",
   "execution_count": null,
   "metadata": {},
   "outputs": [],
   "source": [
    "# Set our parameters\n",
    "N = 10000   # Number of simulations\n",
    "alpha = .5  # P(picked up virus) \n",
    "d = 5       # Days in quarantine.\n",
    "\n",
    "# Simulations where you're infected\n",
    "# (1 if infected, 0 otherwise)\n",
    "is_infected = np.random.binomial(1, alpha, n)\n",
    "\n",
    "# Incubation times for people who are infected\n",
    "incubation_times = np.random.lognormal(incubation_mu, incubation_sigma, n)\n",
    "# Simulations where you have symptoms by day d.\n",
    "symptoms_today = np.where(is_infected & (incubation_times < d), 1, 0)\n",
    "\n",
    "# In how many of the simulations where you show no symptoms today\n",
    "# do you turn out to actually be infected?\n",
    "p_infected = is_infected[symptoms_today == 0].mean()\n",
    "print('P(Infected) = %.2f' % p_infected)"
   ]
  },
  {
   "cell_type": "markdown",
   "metadata": {},
   "source": [
    "Next, let's calculate it over a range of days\n",
    "(😊 = No symptoms)."
   ]
  },
  {
   "cell_type": "code",
   "execution_count": null,
   "metadata": {},
   "outputs": [],
   "source": [
    "# Ineffecient code\n",
    "days = np.arange(0, 20)\n",
    "probabilities = []\n",
    "for d in days:\n",
    "    symptoms_today = np.where(is_infected & (incubation_times < d), 1, 0)\n",
    "    p_infected = is_infected[symptoms_today==0].mean()\n",
    "    probabilities.append(p_infected)\n",
    "plt.plot(days, probabilities)\n",
    "plt.ylim(0, 1)\n",
    "plt.xlim(0, 20)\n",
    "plt.xlabel('Days in Quarantine')\n",
    "plt.ylabel('P(Infected | 😊)')\n",
    "plt.show()"
   ]
  },
  {
   "cell_type": "markdown",
   "metadata": {},
   "source": [
    "Finally, just to show off, let's make our code more efficient, wrap it in a function,\n",
    "and then wrap that in an interactive widget."
   ]
  },
  {
   "cell_type": "code",
   "execution_count": null,
   "metadata": {},
   "outputs": [],
   "source": [
    "def plot_p_infected(alpha: float, \n",
    "                   incubation_mu: float=1.6, incubation_sigma: float=0.4):\n",
    "    '''Plot posterior probability that you're infected if you \n",
    "    remain symptom free over a number of days since contact.\n",
    "\n",
    "    Arguments:\n",
    "    - prior_p_infected: Prior probability of infection.\n",
    "    - prob_symptoms_if_infected: Probability of symptoms if infected\n",
    "    - incubation_mu: Log-mean parameter for incubution time distribution (default = 1.6)\n",
    "    - incubation_sigma: Log-SD parameter for incubution time distribution (default = 0.4)\n",
    "    \n",
    "    Returns nothing, but plots a figure.\n",
    "    '''\n",
    "    n = 1000\n",
    "    days = range(0, 20)\n",
    "    \n",
    "    is_infected = np.random.binomial(1, alpha, n)\n",
    "    incubation_times = np.random.lognormal(incubation_mu, incubation_sigma, n)\n",
    "    def get_p_for_day(d):\n",
    "        '''Calculate P(Infected) after d days'''\n",
    "        symptoms_today = np.where(is_infected & (incubation_times < d), 1, 0)\n",
    "        return is_infected[symptoms_today==0].mean()\n",
    "    probabilities = [get_p_for_day(d) for d in days]\n",
    "    plt.plot(days, probabilities)\n",
    "    plt.ylim(0, 1)\n",
    "    plt.xlabel('Days since contact')\n",
    "    plt.ylabel('P(Infected | 😊)')\n",
    "    plt.show()\n",
    "\n",
    "interact(plot_p_infected, \n",
    "         alpha = fs(.5, 0, 1, .1, 'α'),\n",
    "         incubation_mu    = fs(1.6, 0, 5, .1, 'Incubation μ'),\n",
    "         incubation_sigma = fs(0.4, 0, 1, .1, 'Incubation σ'));\n",
    "\n"
   ]
  },
  {
   "cell_type": "markdown",
   "metadata": {},
   "source": [
    "## Room for Improvement\n",
    "\n",
    "There are quite a few assumptions in this analysis that aren't right.\n",
    "For example, it assumes:\n",
    "\n",
    "\n",
    "- Everyone who has the virus will develop symptoms.\n",
    "- Symptoms are obvious. \n",
    "  In reality, knowing whether or not you have the symptoms is a signal detection problem,\n",
    "  and you need to include that uncertainty in your analysis.\n",
    "- There is no other possible cause of COVID-like symptoms.\n"
   ]
  },
  {
   "cell_type": "markdown",
   "metadata": {},
   "source": [
    "### Analytic Solution (Optional)\n",
    "\n",
    "If you want to see the analytic solution to this problem, [check this endnote](#endnote1)\n"
   ]
  },
  {
   "cell_type": "markdown",
   "metadata": {},
   "source": [
    "\n",
    "##  Am I still infectious?\n",
    "\n",
    "Let's try a slightly more complicated example.\n",
    "\n",
    "The infographic above makes a two strong assumptions.\n",
    "First, it assumes that the incubation period is 14 days,\n",
    "so that a person stops being infectious 14 days after the pick up the virus.\n",
    "Second, it assumes that on Day 1, when Mum gets sick,\n",
    "everyone else in the family picks up the virus from her immediately.\n",
    "I don't know what this is called, so let's call it the *acquisition time*:\n",
    "this infographic assumes an acquisition time of 0 days.\n",
    "Third, it assumes that once you show symptoms, you're contagious for 7 days.\n",
    "We'll call this the *recovery time*, although we won't worry about it in this post.\n",
    "\n",
    "These are reasonable assumptions, since these are our best estimates for how these things work.\n",
    "However, in reality we're uncertain about all of these things,\n",
    "since these things will take longer in some cases than in others.\n",
    "It also assumes that the recovery time starts counting down from the day you first show symptoms,\n",
    "rather than the day you stop showing symptoms.\n",
    "I don't know if that's a good assumption -\n",
    "what if your symptoms last more than a week? - \n",
    "but I'm going to ignore it for now."
   ]
  },
  {
   "cell_type": "markdown",
   "metadata": {},
   "source": [
    "We can make the model used in this infographic explicit as follows.\n",
    "Let's call the acquisition period $\\tau_A$,\n",
    "and incubation period $\\tau_B$.\n",
    "$d_1$ is the day on which the first person in the family (Mum) shows symptoms.\n",
    "The graphic assumes $\\tau_A = 0$, and $\\tau_B = 14$.\n",
    "\n",
    "If you do not develop symptoms,\n",
    "the model states that you are contagious until day $\\tau_C = d_1 + \\tau_A + \\tau_B$\n",
    "(day of first infection plus time taken to acquire the virus yourself plus\n",
    "time it would take for symptoms to develop if you have acquired it),\n",
    "and not contagious afterwards.\n",
    "Note we're not using the same notation as earlier in this post.\n",
    "\n",
    "We've already seen that our best estimate of the incubation time is just\n",
    "\n",
    "$$\n",
    "\\tau_B \\sim \\text{Log-Normal}(1.621, 0.418)\n",
    "$$"
   ]
  },
  {
   "cell_type": "code",
   "execution_count": null,
   "metadata": {},
   "outputs": [],
   "source": [
    "histogram(incubation_times, 'Incubation times (β)', bins=range(20))"
   ]
  },
  {
   "cell_type": "markdown",
   "metadata": {},
   "source": [
    "\n",
    "I don't know of any empirical estimates of the acquisition time $\\alpha$, which is assumed to be 0 days here.\n",
    "It's useful to reframe this in terms of the *acquisition probability*, $\\theta_A$:\n",
    "if you wake up without the virus, but someone in your house has it,\n",
    "what is the probability that you'll catch it that day? \n",
    "The acquisition time, $\\tau_A$, follows a \n",
    "[geometric distribution](https://en.wikipedia.org/wiki/Geometric_distribution) \n",
    "(the first kind discussed on the Wikipedia page), \n",
    "with success probability $\\theta_A$\n",
    "(\"success\" here meaning you successfully acquire the virus. I didn't choose this terminology).\n",
    "The average acquisition time in this case is just $\\frac{1}{\\theta_A}$."
   ]
  },
  {
   "cell_type": "code",
   "execution_count": null,
   "metadata": {},
   "outputs": [],
   "source": [
    "thetas = [.25, .5, .75, .9999]\n",
    "times = np.arange(0, 7, 1)\n",
    "fig, axes = plt.subplots(1, 2, figsize=(12, 4))\n",
    "\n",
    "plt.sca(axes[0])\n",
    "for theta in thetas:\n",
    "    # Offset by one\n",
    "    d = stats.geom(theta).pmf(times+1) \n",
    "    plt.plot(times, d, '-o', label='$\\\\theta_A = $%.2f' % theta)\n",
    "plt.xlabel('Days since first infection')\n",
    "plt.ylim(0, 1.1)\n",
    "plt.legend()\n",
    "plt.ylabel('P(Get infected today)')\n",
    "\n",
    "plt.sca(axes[1])\n",
    "for theta in thetas:\n",
    "    d = stats.geom(theta).cdf(times+1)\n",
    "    plt.plot(times, d, '-o', label='$\\\\theta_A = $%.2f' % theta)\n",
    "plt.xlabel('Days since first infection')\n",
    "plt.ylim(0, 1.1)\n",
    "plt.legend()\n",
    "plt.ylabel('P(Infected by end of today)')\n",
    "plt.tight_layout()\n",
    "plt.show()"
   ]
  },
  {
   "cell_type": "markdown",
   "metadata": {},
   "source": [
    "For now, let's assume you have a 80% chance of picking up the virus\n",
    "for every day you spend living with someone who is contagious:\n",
    "$\\theta_A = 0.8$.\n",
    "We can then obtain a distribution over likely acquisition times, $\\beta$\n",
    "by sampling from a geometric distribution with probability parameter $0.8$.\n",
    "\n",
    "$$\n",
    "\\tau_A \\sim \\text{Geometric}(0.8)\n",
    "$$"
   ]
  },
  {
   "cell_type": "code",
   "execution_count": null,
   "metadata": {},
   "outputs": [],
   "source": [
    "def sample_acq_times(acq_prob, n=n):\n",
    "    return np.random.geometric(acq_prob, n) - 1 # Offset by one\n",
    "\n",
    "acquisition_prob = .8\n",
    "acquisition_times = sample_acq_times(acquisition_prob)\n",
    "histogram(acquisition_times, 'Acquisition time in days ($\\\\tau_A$)', bins=range(0, 8))\n",
    "plt.ylim(0, 1);"
   ]
  },
  {
   "cell_type": "markdown",
   "metadata": {},
   "source": [
    "### Combining Distributions\n",
    "\n",
    "We now have samples from distributions representing our uncertainty\n",
    "about the acquisition time $\\tau_A$, and the incubation period $\\tau_B$.\n",
    "We want to calculate the distribution of the isolation time, $\\tau_C = d_1 + \\tau_A + \\tau_B$.\n",
    "To do this, we just apply this formula to each individual sample:\n",
    "$\\tau_C^i = d_1 + \\tau_A^i + \\tau_B^i$, for $i$ in $1, 2, \\dots, n$."
   ]
  },
  {
   "cell_type": "code",
   "execution_count": null,
   "metadata": {},
   "outputs": [],
   "source": [
    "isolation_times = acquisition_times + incubation_times\n",
    "histogram(isolation_times, 'Isolation time in days (τ = α + β)', bins=range(30))"
   ]
  },
  {
   "cell_type": "markdown",
   "metadata": {},
   "source": [
    "With this distribution, we can ask answer questions like\n",
    "\n",
    "- What's the probability of still being contagious after 7 days? After 14 days?\n",
    "- How long must you wait to have a 95% chance of not being contagious?"
   ]
  },
  {
   "cell_type": "code",
   "execution_count": null,
   "metadata": {},
   "outputs": [],
   "source": [
    "def p_still_contagious(isolation_times, days):\n",
    "    '''What is the probability you\\'re contagious after `days` days?'''\n",
    "    p = np.mean(isolation_times > days)\n",
    "    return 'P(Contagious) after %i days\\t= %.3f' % (days, p)\n",
    "    \n",
    "for days in [2, 7, 14]:\n",
    "    print(p_still_contagious(isolation_times, days))"
   ]
  },
  {
   "cell_type": "code",
   "execution_count": null,
   "metadata": {},
   "outputs": [],
   "source": [
    "def days_until_probability(isolation_times, prob):\n",
    "    '''How many days must you wait to have this probability of being non-contagious?'''\n",
    "    days = np.percentile(isolation_times, prob*100) # Percentile expects values 0-100\n",
    "    return 'P(Not contagious) = %.3f after %i days' % (prob, days)\n",
    "\n",
    "for prob in [.5, .75, .9, .99]:\n",
    "    print(days_until_probability(isolation_times, prob))"
   ]
  },
  {
   "cell_type": "markdown",
   "metadata": {},
   "source": [
    "Of course, the value of $\\theta = 0.8$ was only a guess.\n",
    "How much do our conclusions depend on these parameters?\n",
    "To find out, we create a function that takes these parameter values as inputs,\n",
    "and outputs a distribution over isolation times $\\tau_C$,\n",
    "using the code above."
   ]
  },
  {
   "cell_type": "code",
   "execution_count": null,
   "metadata": {},
   "outputs": [],
   "source": [
    "def infer_isolation_times(mu_incubation_time, sigma_incubation_time, acquisition_prob, n=10000):\n",
    "    incubation_times = np.random.lognormal(mu_incubation_time, sigma_incubation_time, n)\n",
    "    acquisition_times = sample_acq_times(acquisition_prob, n)\n",
    "    isolation_times = acquisition_times + incubation_times\n",
    "    return isolation_times"
   ]
  },
  {
   "cell_type": "markdown",
   "metadata": {},
   "source": [
    "Better still, we can wrap this in another function that takes these parameters and produces a histogram and some summary values."
   ]
  },
  {
   "cell_type": "code",
   "execution_count": null,
   "metadata": {},
   "outputs": [],
   "source": [
    "def plot_isolation_times(isolation_times):\n",
    "    fig, axes = plt.subplots(1, 2, figsize=(16, 4))\n",
    "    plt.sca(axes[0])\n",
    "    plt.hist(isolation_times, bins=20)\n",
    "    plt.xlabel('Isolation times (days)')\n",
    "    plt.yticks([])\n",
    "    plt.gca().axes.spines['left'].set_visible(False)\n",
    "    plt.sca(axes[1])\n",
    "    q = np.linspace(0, 1, 50)\n",
    "    d = np.percentile(isolation_times, q*100)\n",
    "    plt.ylim(0, 1.05)\n",
    "    plt.plot(d, q)\n",
    "    for ax in axes:\n",
    "        ax.set_xlim(0, 20)\n",
    "        ax.vlines(14, *ax.get_ylim(), linestyle='dashed')\n",
    "    plt.xlabel('Time since first symptoms in house')\n",
    "    plt.ylabel('P(No longer contagious)')\n",
    "    \n",
    "def show_isolation_times(mu_incubation_time=1.621, \n",
    "                         sigma_incubation_time=0.418, \n",
    "                         acquisition_prob=0.9):\n",
    "    isolation_times = infer_isolation_times(mu_incubation_time, sigma_incubation_time, acquisition_prob, n=1000)\n",
    "    plot_isolation_times(isolation_times)\n",
    "\n",
    "show_isolation_times()        "
   ]
  },
  {
   "cell_type": "markdown",
   "metadata": {},
   "source": [
    "...and wrap the whole thing in an interactive widget."
   ]
  },
  {
   "cell_type": "code",
   "execution_count": null,
   "metadata": {},
   "outputs": [],
   "source": [
    "interact(show_isolation_times, \n",
    "         mu_incubation_time   = fs(1.6, 0, 5, .1, 'Incubation μ'),\n",
    "         sigma_incubation_time = fs(0.4, 0, 1, .1, 'Incubation σ'),\n",
    "         acquisition_prob     = fs(.9, 0, 1, .1, 'Acquisition θ'));"
   ]
  },
  {
   "cell_type": "markdown",
   "metadata": {},
   "source": [
    "As before, this problem can be solved analytically, without simulations.\n",
    "Unlike before, I'm not going to bother figuring out what it is this time.\n",
    "\n",
    "Finally, after playing with this interactive slider for a while,\n",
    "we can identify some effects."
   ]
  },
  {
   "cell_type": "code",
   "execution_count": null,
   "metadata": {},
   "outputs": [],
   "source": [
    "def do_isolation_curve(mu_incubation_time=1.621, \n",
    "                       sigma_incubation_time=0.418, \n",
    "                       acquisition_prob=0.9,\n",
    "                      *args, **kwargs):\n",
    "    '''Draw isolation time curve for these parameters'''\n",
    "    isolation_times = infer_isolation_times(mu_incubation_time, sigma_incubation_time, acquisition_prob, n=1000)\n",
    "    q = np.linspace(0, 1, 50)\n",
    "    d = np.percentile(isolation_times, q*100)\n",
    "    d[0] = 0; d[-1] = 20 # Hack to force curve to go to end of plot\n",
    "    label = 'μ = %.1f, σ = %.1f, θ = %.1f' % (mu_incubation_time, sigma_incubation_time, acquisition_prob)\n",
    "    plt.plot(d, q, label=label, *args, **kwargs)"
   ]
  },
  {
   "cell_type": "code",
   "execution_count": null,
   "metadata": {},
   "outputs": [],
   "source": [
    "mu_values = [1.4, 1.8]\n",
    "sigma_values =  [.2, .6]\n",
    "theta_values = [.5, 1]\n",
    "\n",
    "mu_default = 1.6\n",
    "sigma_default = .4\n",
    "theta_default = .8\n",
    "\n",
    "default_pars = np.array([mu_default, sigma_default, theta_default])\n",
    "alt_pars = [mu_values, sigma_values, theta_values]\n",
    "titles = ['A. Effect of mean incubation time', \n",
    "         'B. Effect of variability in incubation time',\n",
    "         'C. Effect of acquisition probability' ]\n",
    "pal = iter(sns.palettes.color_palette(n_colors=6))\n",
    "\n",
    "fig, axes = plt.subplots(1, 3, figsize=(20, 5))\n",
    "for i in range(3):\n",
    "    plt.subplot(axes[i])\n",
    "    for j in range(2):\n",
    "        pars = np.copy(default_pars)\n",
    "        pars[i] = alt_pars[i][j]\n",
    "        do_isolation_curve(*pars, color=next(pal))\n",
    "    plt.xlabel('Time since first symptoms in house')\n",
    "    plt.ylabel('P(No longer contagious)')\n",
    "    plt.xlim(0, 20)\n",
    "    plt.vlines(14, *plt.ylim(), linestyle='dashed')\n",
    "    plt.legend()\n",
    "    plt.title(titles[i])\n",
    "plt.tight_layout()\n",
    "plt.show()"
   ]
  },
  {
   "cell_type": "markdown",
   "metadata": {},
   "source": [
    "\n",
    "- **A.** If the incubation time is longer than we think, people should isolate for longer.\n",
    "  This should be obvious, since ($\\tau_C = \\tau_A + \\tau_B$)\n",
    "- **B.** If the incubation time is highly variable, your chances of \n",
    "  still being contagious in the first few days are reduced,\n",
    "  but the chance of still being contagious after 5 days or more is increased.\n",
    "- **C.** If transmission within a household is slower, the isolation period needs to be longer.\n",
    "  "
   ]
  },
  {
   "cell_type": "markdown",
   "metadata": {},
   "source": [
    "## Decision Theory\n",
    "\n",
    "I was going to finish by talking about *Bayesian decision theory*,\n",
    "an extension of this framework that allows us to plug these simulations into cost-benefit analysis.\n",
    "However, this post is already far too long,\n",
    "so instead I'll close, and maybe return to the topic some other day."
   ]
  },
  {
   "cell_type": "markdown",
   "metadata": {},
   "source": [
    "# Endnotes"
   ]
  },
  {
   "cell_type": "markdown",
   "metadata": {},
   "source": [
    "<h2 id=\"endnote1\">Analytic Solution for <i>Am I Infectious?</i></h2>\n",
    "\n",
    "We can work out the analytic solution here, if we really want to.\n",
    "Consider the path diagram below.\n",
    "\n",
    "<img style=\"max-height:200px;\" src=\"symptoms.png\"/>\n",
    "\n",
    "If someone has no symptoms by day $d$,\n",
    "they either are infected but haven't developed symptoms yet (**outcome B**; red),\n",
    "or they aren't sick (**outcome C**; green).\n",
    "This means the probability they're infected is\n",
    "\n",
    "\n",
    "$$\n",
    "P(\\text{Infected}) = \\frac{P(B)}{P(B) + P(C)}\n",
    "$$\n",
    "\n",
    "Since we believe $\\tau$ follows a log normal distribution\n",
    "$\\text{Log-Normal}(1.621, 0.418)$, we know that\n",
    "\n",
    "$$\n",
    "p(\\tau \\gt d) = \\int_0^d{f(t\\ \\mid\\ 1.621, 0.418)}dt\n",
    "$$\n",
    "\n",
    "where $f(t\\ \\mid\\ \\mu, \\sigma)$ is the log-normal probability density function.\n",
    "\n",
    "\n",
    "Putting this together, we find\n",
    "\n",
    "\n",
    "$$\n",
    "\\begin{align}\n",
    "P(\\text{Infected}) \n",
    " &= \\frac{P(B)}{P(B) + P(C)}\\\\\n",
    " &= \\frac{\\alpha p(\\tau > d)}{\\alpha p(\\tau > d) + 1 - \\alpha}\\\\\n",
    " &= \\frac{\\alpha \\int_0^d{f(t\\ \\mid\\ 1.621, 0.418)}dt}\n",
    " {\\alpha \\int_0^d{f(t\\ \\mid\\ 1.621, 0.418)}dt + 1 - \\alpha}\n",
    "\\end{align}\n",
    "$$\n",
    "\n",
    "Is all this right?\n",
    "I think so, but this is more algebra than I'm used to doing,\n",
    "so let's confirm by visualising it again."
   ]
  },
  {
   "cell_type": "code",
   "execution_count": null,
   "metadata": {},
   "outputs": [],
   "source": [
    "def plot_p_infected_analytic(alpha: float, \n",
    "                             incubation_mu: float=1.6, incubation_sigma: float=0.4):\n",
    "    '''Same as `plot_p_infected`, but using analytic solution.\n",
    "    '''\n",
    "    days = np.arange(0, 20)\n",
    "    incubation_time_distribution = stats.lognorm(loc=0, \n",
    "                                                 scale=np.exp(incubation_mu),\n",
    "                                                 s=incubation_sigma)\n",
    "    # Find P(𝜏 < d) from the cumulative distribution function, and invert it.\n",
    "    prob_A = alpha * (1 - incubation_time_distribution.cdf(days))\n",
    "    prob_B = (1 - alpha)\n",
    "    prob_infected = prob_A / (prob_A + prob_B)\n",
    "    plt.plot(days, prob_infected)\n",
    "    plt.ylim(0, 1)\n",
    "    plt.xlabel('Days since contact')\n",
    "    plt.ylabel(u'P(Infected | 😊)')\n",
    "    plt.show()\n",
    "\n",
    "interact(plot_p_infected_analytic, \n",
    "         alpha = fs(.5, 0, 1, .1, 'α'),\n",
    "         incubation_mu    = fs(1.6, 0, 5, .1, 'Incubation μ'),\n",
    "         incubation_sigma = fs(0.4, 0, 1, .1, 'Incubation σ'));\n",
    "\n"
   ]
  },
  {
   "cell_type": "markdown",
   "metadata": {},
   "source": [
    "It produces the same results as the simulations, so I'm happy.\n",
    "Of course, it's possible to mess up the simulations,\n",
    "and it's possible to mess up the algebra,\n",
    "but in practice I find I'm much more likely to mess up the algebra."
   ]
  }
 ],
 "metadata": {
  "kernelspec": {
   "display_name": "Python 3",
   "language": "python",
   "name": "python3"
  },
  "language_info": {
   "codemirror_mode": {
    "name": "ipython",
    "version": 3
   },
   "file_extension": ".py",
   "mimetype": "text/x-python",
   "name": "python",
   "nbconvert_exporter": "python",
   "pygments_lexer": "ipython3",
   "version": "3.7.4"
  }
 },
 "nbformat": 4,
 "nbformat_minor": 4
}
