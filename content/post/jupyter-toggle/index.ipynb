{
 "cells": [
  {
   "cell_type": "markdown",
   "metadata": {},
   "source": [
    "---\n",
    "title: Toggling code cells in Jupyter HTML Outputs\n",
    "summary: \"Or, How I Wasted an Afternoon.\"\n",
    "date: 2020-01-11\n",
    "source: jupyter\n",
    "---\n",
    "\n"
   ]
  },
  {
   "cell_type": "markdown",
   "metadata": {},
   "source": [
    "When writing a blog post in Twitter, I found there was no easy way to\n",
    "reproduce the rather lovely **code folding** effect you get in \n",
    "([Rmarkdown documents](https://bookdown.org/yihui/rmarkdown/html-document.html#code-folding)),\n",
    "so I went and made one myself, illustrated here.\n",
    "\n",
    "Actually, I've written a few of them, as the code changes slightly depending on where you want to achieve code folding.\n",
    "\n",
    "First, here's some toggleable code."
   ]
  },
  {
   "cell_type": "code",
   "execution_count": null,
   "metadata": {},
   "outputs": [],
   "source": [
    "for i in range(9, -1, -1):\n",
    "    if i > 0:\n",
    "        print('.' * (i) + ('%i' % i) + '.' * (9-i))\n",
    "    else:\n",
    "        print('>Lift Off!')"
   ]
  },
  {
   "cell_type": "code",
   "execution_count": null,
   "metadata": {},
   "outputs": [],
   "source": [
    "%matplotlib inline\n",
    "import matplotlib.pyplot as plt\n",
    "import numpy as np\n",
    "plt.hist(np.random.normal(0, 1, 100));"
   ]
  },
  {
   "cell_type": "markdown",
   "metadata": {},
   "source": [
    "## Jupyter Magic\n",
    "\n",
    "To activate toggling directly in a live Notebook using\n",
    "the [%%JavaScript magic](https://jupyter-notebook.readthedocs.io/en/stable/examples/Notebook/JavaScript%20Notebook%20Extensions.html), just nclude the cell below in your notebook\n",
    "If the notebook is [truster](https://jupyter-notebook.readthedocs.io/en/stable/security.html),\n",
    "it will automatically run when you load the page."
   ]
  },
  {
   "cell_type": "code",
   "execution_count": null,
   "metadata": {},
   "outputs": [],
   "source": [
    "%%javascript\n",
    "function toggler(){\n",
    "    if(window.already_toggling){\n",
    "        // Don't add multiple buttons.\n",
    "        return 0\n",
    "    }\n",
    "    let btn = $('.input').append('<button>Toggle Code</button>')\n",
    "        .children('button');\n",
    "    btn.on('click', function(e){\n",
    "        let tgt = e.currentTarget;\n",
    "        $(tgt).parent().children('.inner_cell').toggle()\n",
    "    })\n",
    "    window.already_toggling = true;\n",
    "}\n",
    "// Since javascript cells are executed as soon as we load\n",
    "// the notebook (if it's trusted), and this cell might be at the\n",
    "// top of the notebook (so is executed first), we need to\n",
    "// allow time for all of the other code cells to load before\n",
    "// running. Let's give it 5 seconds.\n",
    "\n",
    "setTimeout(toggler, 5000);"
   ]
  },
  {
   "cell_type": "markdown",
   "metadata": {},
   "source": [
    "Notebooks that have toggling enabled will keep this feature\n",
    "when you convert them to HTML pages using `jupyter nbconvert`.\n",
    "\n",
    "I believe that this code could be packaged to create a jupyter extension, but I don't know how, and don't have much interest right now."
   ]
  },
  {
   "cell_type": "markdown",
   "metadata": {},
   "source": [
    "## NBConvert Templates\n",
    "\n",
    "It should be possible to create a\n",
    "[custom template](https://nbconvert.readthedocs.io/en/latest/customizing.html)\n",
    "for `jupyter nbconvert` that injects the same code,\n",
    "or something very like it.\n",
    "Unfortunately, the documentation on how to do this is not straightforward.\n"
   ]
  },
  {
   "cell_type": "markdown",
   "metadata": {},
   "source": [
    "## Hugo\n",
    "\n",
    "This site is generated using the [Academic](https://github.com/gcushen/hugo-academic) theme for \n",
    "[Hugo](https://gohugo.io/).\n",
    "\n",
    "\n",
    "To post Jupyter notebooks, I convert them to `.md` files using the command\n",
    "`jupyter nbconvert index.ipynb --to markdown --NbConvertApp.output_files_dir=.`,\n",
    "and following the instructions [here](https://github.com/gcushen/hugo-academic/blob/master/exampleSite/content/post/jupyter/index.md).\n",
    "\n",
    "I've added the following rule to the site header template for my version of the theme,\n",
    "located in `/path/to/my_page/themes/academic/layouts/partials/site_head.html`,\n",
    "just before the `</head>` tag.\n",
    "\n",
    "\n",
    "```js\n",
    "{{ if eq $.Params.source \"jupyter\"}}\n",
    "<script\n",
    "  src=\"https://code.jquery.com/jquery-3.4.1.min.js\"\n",
    "  crossorigin=\"anonymous\"></script>\n",
    "\n",
    "<script type=\"text/javascript\" async\n",
    "      src=\"https://cdnjs.cloudflare.com/ajax/libs/mathjax/2.7.5/MathJax.js?config=TeX-MML-AM_CHTML\">\n",
    "</script>\n",
    "\n",
    "<script type=\"text/x-mathjax-config\">\n",
    "  MathJax.Hub.Config({\n",
    "      tex2jax: {\n",
    "          inlineMath: [['$','$'], ['\\\\(','\\\\)']],\n",
    "          displayMath: [['$$','$$'], ['\\[','\\]']],\n",
    "          processEscapes: true,\n",
    "          processEnvironments: true,\n",
    "          skipTags: ['script', 'noscript', 'style', 'textarea', 'pre'],\n",
    "          TeX: { equationNumbers: { autoNumber: \"AMS\" },\n",
    "                 extensions: [\"AMSmath.js\", \"AMSsymbols.js\"] }\n",
    "      }\n",
    "  });\n",
    "</script>\n",
    "\n",
    "<script>\n",
    "  function toggler(){\n",
    "      let btn = $('.language-python').parent()\n",
    "                                     .prepend('<button>Toggle Code</button>')\n",
    "                                     .children('button');\n",
    "      btn.on('click', function(e){\n",
    "          let tgt = e.currentTarget;\n",
    "          $(tgt).parent().children('code').toggle()\n",
    "      })\n",
    "  }\n",
    "  $(window).on('load', toggler)\n",
    "</script>\n",
    "{{ end }}\n",
    "```\n",
    "\n",
    "I then add `source: jupyter` to the metadata of all Jupyter posts.\n",
    "This means that this code is added to these posts, and only these posts.\n",
    "\n",
    "Something very similar should work for other static site generators such as Pelican.\n"
   ]
  },
  {
   "cell_type": "markdown",
   "metadata": {},
   "source": [
    "\n",
    "# Toggle All\n",
    "\n",
    "Finally, it would be simple to add a Show/Hide All button at the top of the page, but I haven't got around to doing so yet. Soon, maybe."
   ]
  }
 ],
 "metadata": {
  "kernelspec": {
   "display_name": "Python 3",
   "language": "python",
   "name": "python3"
  },
  "language_info": {
   "codemirror_mode": {
    "name": "ipython",
    "version": 3
   },
   "file_extension": ".py",
   "mimetype": "text/x-python",
   "name": "python",
   "nbconvert_exporter": "python",
   "pygments_lexer": "ipython3",
   "version": "3.7.4"
  }
 },
 "nbformat": 4,
 "nbformat_minor": 2
}
