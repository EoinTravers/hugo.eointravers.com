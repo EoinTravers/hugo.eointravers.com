{
 "cells": [
  {
   "cell_type": "markdown",
   "metadata": {},
   "source": [
    "---\n",
    "title: \"EEG Current Source Density and the Surface Laplacian\"\n",
    "summary: \"How does it work? Why does it work? I try to figure out this and more.\"\n",
    "date: 2020-01-30\n",
    "source: jupyter\n",
    "---\n"
   ]
  },
  {
   "cell_type": "markdown",
   "metadata": {},
   "source": [
    "In some of our [recent work](https://www.biorxiv.org/content/10.1101/782813v1),\n",
    "we use Surface Laplacians to estimate Current Source Density (CSD) from EEG data.\n",
    "\n",
    "\n",
    "This transforms the data from a measure of electric potentials at the scalp\n",
    "to an estimate of underlying current sources and sinks: the Current Source Density (CSD).\n",
    "The Surface Laplacian can also be thought of as a spatial high-pass filter applied to the data,\n",
    "which attenuates low-spatial-frequency signals that are broadly distributed across the scalp,\n",
    "but preserves high-spatial-frequency signals that are more localised.\n",
    "\n",
    "I've learned a lot about this approach from\n",
    "- Mike X Cohen's excellent book, [*Analying Neural Time Series Data*](http://mikexcohen.com/#books) and the accompanying MATLAB code. \n",
    "  I also recommend his [videos lectures](http://mikexcohen.com/lectures.html)\n",
    "- This [Python/MNE port of Cohen's code](https://github.com/alberto-ara/Surface-Laplacian)\n",
    "-  Kayser & Tenke (2006). [*Principal components analysis of Laplacian waveforms as a generic method for identifying ERP generator patterns*](http://psychophysiology.cpmc.columbia.edu/pdf/kayser2005b.pdf). This is the method we use.\n",
    "- Another classic book, Nunez & Srinivasan (2006). [*Electric fields of the brain: the neurophysics of EEG*](https://brainmaster.com/software/pubs/brain/Nunez%202ed.pdf)\n",
    "\n",
    "However, despite these great resources, I wasn't happy with my intuitions about how this works.\n",
    "In this post, I work through a toy example that helped me make sense of just why and how this method works.\n",
    "\n",
    "> Disclaimer:\n",
    "> I've written this post mostly to help me understand something myself.\n",
    "> I'm not the expert here, and it may all be horribly wrong.\n",
    "> No warranties.\n"
   ]
  },
  {
   "cell_type": "code",
   "execution_count": null,
   "metadata": {},
   "outputs": [],
   "source": [
    "import numpy as np\n",
    "import matplotlib.pyplot as plt\n",
    "from scipy import stats\n",
    "import seaborn as sns\n",
    "sns.set(rc={'figure.figsize':(8, 6)},\n",
    "        font_scale=1.5)\n",
    "sns.set_style('whitegrid')\n"
   ]
  },
  {
   "cell_type": "markdown",
   "metadata": {},
   "source": [
    "## The Surface Laplacian\n",
    "\n",
    "To begin, let's pretend the world is two-dimensional,\n",
    "because it makes things simple.\n",
    "\n",
    "- A ***Laplacian*** is basically a spatial second-order derivative.\n",
    "\n",
    "- A derivative is a number that indicates how quickly something changes.\n",
    "\n",
    "- A spatial derivative indicates how much something changes from place to place. \n",
    "  If we measure elevation about sea level at two points 10 m apart\n",
    "  and find the first is at +5 m while the second is at +15,\n",
    "  the spatial derivative is the slope between the these two places.\n",
    "  More formally, $\\frac{\\delta Elevation}{\\delta Location}$ (change in elevation per change in location) = $\\frac{10\\ m}{10\\ m} = 1$ meters per meter.\n",
    " \n",
    "- A second derivative indicates how quickly the first derivate changes.\n",
    "  Imagine a third point another 10 m further along that is 30 m above sea level.\n",
    "  Remember, we're pretending everything is two-dimensional, \n",
    "  so all these points are along a line.\n",
    "  The slope between points 1 and 2 is $\\frac{10\\ m}{10\\ m} = 1$. \n",
    "  The slope between points 2 and 3 is $\\frac{15\\ m}{10\\ m} = 1.5$.\n",
    "  The difference in slopes is $0.5$.\n",
    "\n",
    "Here's all of the above in plot form."
   ]
  },
  {
   "cell_type": "code",
   "execution_count": null,
   "metadata": {},
   "outputs": [],
   "source": [
    "delta_loc = 10\n",
    "locs = np.array([0, 10, 20])\n",
    "heights = np.array([5, 15, 30])\n",
    "diff_height = np.diff(heights)\n",
    "diff_diff_height = np.diff(diff_height)\n",
    "\n",
    "diff_locs = locs[:-1] + .5*delta_loc   # Keep the x-axis properly aligned\n",
    "diff_diff_locs = locs[:-2] + 1*delta_loc\n",
    "\n",
    "plt.plot(locs, heights, '-o', label='Elevation (m)')\n",
    "plt.plot(diff_locs, diff_height, '-o', label=u'Slope (δ Elevation)')\n",
    "plt.plot(diff_diff_locs, diff_diff_height, '-o', label=u'δ Slope')\n",
    "plt.hlines(0, *plt.xlim(), linestyle='dashed')\n",
    "plt.xlabel('Location (m)')\n",
    "plt.legend()\n",
    "plt.show()"
   ]
  },
  {
   "cell_type": "markdown",
   "metadata": {},
   "source": [
    "## EEG Laplacians\n",
    "\n",
    "So why does calculating the second spatial derivative of the EEG signal help us?\n",
    "To see, I simulate some one-dimensional data (pretend we only have electrodes on the midline)\n",
    "illustrating a common issue in EEG:\n",
    "our data contains a small, narrow negative component and a large, broad positive one."
   ]
  },
  {
   "cell_type": "code",
   "execution_count": null,
   "metadata": {},
   "outputs": [],
   "source": [
    "electrode_spacing = .1\n",
    "space = np.arange(0, 10, electrode_spacing)\n",
    "comp1 = 2 * stats.norm.pdf(space, loc=4, scale=1)\n",
    "comp2 = -.25 * stats.norm.pdf(space, loc=5, scale=.5)\n",
    "\n",
    "def do_label():\n",
    "    plt.legend(loc='upper right')\n",
    "    plt.xlabel('Location')\n",
    "    plt.ylabel('')\n",
    "    \n",
    "fig_ground_truth = plt.figure()\n",
    "for comp, label in zip([comp1, comp2], ['Positive', 'Negative']):\n",
    "    plt.plot(space, comp, label=label)\n",
    "do_label()"
   ]
  },
  {
   "cell_type": "markdown",
   "metadata": {},
   "source": [
    "Of course, in our recordings both of these components are superimposed,\n",
    "and the little one is obscured by the big one.\n",
    "Poor little component."
   ]
  },
  {
   "cell_type": "code",
   "execution_count": null,
   "metadata": {},
   "outputs": [],
   "source": [
    "\n",
    "eeg_signal = comp1 + comp2\n",
    "plt.plot(space, eeg_signal, label='EEG Signal')\n",
    "do_label()"
   ]
  },
  {
   "cell_type": "markdown",
   "metadata": {},
   "source": [
    "Where did our negative component go?\n",
    "It's still there, as a wiggle on the right hand side of the positive component,\n",
    "but good luck detecting this in noisy data.\n",
    "Yes, I did tweak these parameters to make the effect particularly dramatic.\n",
    "\n",
    "Next, we take the first spatial derivative of the EEG signal:\n",
    "how much it changes between electrodes.\n",
    "This doesn't tell us much by itself."
   ]
  },
  {
   "cell_type": "code",
   "execution_count": null,
   "metadata": {},
   "outputs": [],
   "source": [
    "first_derivative = np.diff(eeg_signal)\n",
    "space_d1 = space[:-1] + .5 * electrode_spacing # Keep locations lined up with differenced data\n",
    "plt.plot(space_d1, first_derivative, label='First spatial derivative')\n",
    "do_label()"
   ]
  },
  {
   "cell_type": "markdown",
   "metadata": {},
   "source": [
    "Next, we take the second spatial derivative: the derivative of the derivative."
   ]
  },
  {
   "cell_type": "code",
   "execution_count": null,
   "metadata": {},
   "outputs": [],
   "source": [
    "second_derivative = np.diff(first_derivative)\n",
    "space_d2 = space[:-2] + .5 * electrode_spacing\n",
    "plt.plot(space_d2, second_derivative, label='Second spatial derivative')\n",
    "do_label()"
   ]
  },
  {
   "cell_type": "markdown",
   "metadata": {},
   "source": [
    "...and multiply it by $-1$."
   ]
  },
  {
   "cell_type": "code",
   "execution_count": null,
   "metadata": {},
   "outputs": [],
   "source": [
    "plt.plot(space_d2, -1*second_derivative, label='-1 × Second spatial derivative')\n",
    "do_label()"
   ]
  },
  {
   "cell_type": "markdown",
   "metadata": {},
   "source": [
    "There it is!\n",
    "Our positive component is narrower, but still has it's peak at $x=4$.\n",
    "Our negative component can now be seen at $x=5$\n",
    "\n",
    "For comparison, here are the original components again."
   ]
  },
  {
   "cell_type": "code",
   "execution_count": null,
   "metadata": {},
   "outputs": [],
   "source": [
    "fig_ground_truth"
   ]
  },
  {
   "cell_type": "markdown",
   "metadata": {},
   "source": [
    "By calculating the Laplacian, we've squeezed the components into a narrower spatial range,\n",
    "which make it possible to see the otherwise hidden negative component.\n",
    "It looks like we've also introduced some other artifacts,\n",
    "like the negative dip at around $x=2$.\n",
    "However, this makes sense from an electrophysiological point of view:\n",
    "if there is a positive current source at $x=4$, \n",
    "there must be corresponding negative sinks around it.\n",
    "(I might be confusing sinks and sources here, but no matter).\n"
   ]
  },
  {
   "cell_type": "markdown",
   "metadata": {},
   "source": [
    "## 2D Laplacians\n",
    "\n",
    "OK, this works with one-dimensional data,\n",
    "but EEG electrodes are located in three-dimensional space around the head.\n",
    "Let's at least see how it works in the two-dimensional case.\n",
    "We'll pretend the scalp is a flat square of 20 cm on each side."
   ]
  },
  {
   "cell_type": "code",
   "execution_count": null,
   "metadata": {},
   "outputs": [],
   "source": [
    "X = Y = np.arange(-10, 10.01, .1)\n",
    "XY = np.array([(x, y) for x in X for y in Y])\n",
    "\n",
    "def show(X):\n",
    "    '''Plot an image from a 2D array'''\n",
    "    mx = np.abs(X).max()\n",
    "    im = plt.imshow(X, cmap='seismic', vmin=-mx, vmax=mx)\n",
    "    plt.colorbar(im)"
   ]
  },
  {
   "cell_type": "code",
   "execution_count": null,
   "metadata": {},
   "outputs": [],
   "source": [
    "locs = [(0, -4), (0, 2)]  # Center of each component\n",
    "peaks = [-1, 6]           # Peak amplitudes\n",
    "scales = [2, 8]           # Standard deviations\n",
    "V = np.zeros(XY.shape[0]) # Voltages\n",
    "\n",
    "for loc, peak, scale in zip(locs, peaks, scales):\n",
    "    cov = np.eye(2) * scale\n",
    "    thisV = stats.multivariate_normal.pdf(XY, mean=loc, cov=cov)\n",
    "    gain = peak / thisV.max()\n",
    "    V += thisV * gain\n",
    "wV = V.reshape(len(X), len(X)).T # Voltage as a 2D grid\n",
    "show(wV)"
   ]
  },
  {
   "cell_type": "markdown",
   "metadata": {},
   "source": [
    "Again, where did that little guy go?\n",
    "\n",
    "As before, we can look at the first derivatives, but again they don't tell us much."
   ]
  },
  {
   "cell_type": "code",
   "execution_count": null,
   "metadata": {},
   "outputs": [],
   "source": [
    "def combine(dx, dy):\n",
    "    '''Combine two one-dimensional partial derivates to form a Laplacian\n",
    "    Drops the last value in each dimension so the shapes match.\n",
    "    Is this the right thing to do? \n",
    "    Wikipedia (https://en.wikipedia.org/wiki/Laplace_operator#Definition)\n",
    "    says \"the Laplacian of f is the sum of all the unmixed second partial\n",
    "    derivatives in the Cartesian coordinates xi.\" I think this means yes.\n",
    "    '''\n",
    "    n = dx.shape[0]\n",
    "    assert(dy.shape[1]==n)\n",
    "    return dx[:n, :n] + dy[:n, :n]"
   ]
  },
  {
   "cell_type": "code",
   "execution_count": null,
   "metadata": {},
   "outputs": [],
   "source": [
    "dv_dx = np.diff(wV, axis=0)[:-1, :] # Drop the last value on the appropriate axis to keep things symmetrical\n",
    "dv_dy = np.diff(wV, axis=1)[:, :-1]\n",
    "gradient = combine(dv_dx, dv_dy)\n",
    "show(gradient)"
   ]
  },
  {
   "cell_type": "markdown",
   "metadata": {},
   "source": [
    "The negative second derivatives - the Laplacian - on the other hand..."
   ]
  },
  {
   "cell_type": "code",
   "execution_count": null,
   "metadata": {},
   "outputs": [],
   "source": [
    "ddv_ddx = np.diff(dv_dx, axis=0)[:-1, :]\n",
    "ddv_ddy = np.diff(dv_dy, axis=1)[:, :-1]\n",
    "laplacian = -combine(ddv_ddx, ddv_ddy)\n",
    "show(laplacian)"
   ]
  },
  {
   "cell_type": "markdown",
   "metadata": {},
   "source": [
    "There it is! \n",
    "\n",
    "This is the same effect as we saw in 1D space done in 2D.\n",
    "As mentioned above, real EEG electrodes are located in 3D space, and they aren't evenly spaced,\n",
    "which is why you can't calculate the Laplacian by looking at the difference between adjacent electrodes.\n",
    "Instead, you need to use something complicated called spherical spline interpolation,\n",
    "but I'm not going into that here.\n",
    "\n",
    "I now get why calculating the second spatial derivative of an EEG signal is sensible thing to do.\n",
    "Hopefully you do too!"
   ]
  }
 ],
 "metadata": {
  "kernelspec": {
   "display_name": "Python 3",
   "language": "python",
   "name": "python3"
  },
  "language_info": {
   "codemirror_mode": {
    "name": "ipython",
    "version": 3
   },
   "file_extension": ".py",
   "mimetype": "text/x-python",
   "name": "python",
   "nbconvert_exporter": "python",
   "pygments_lexer": "ipython3",
   "version": "3.7.4"
  }
 },
 "nbformat": 4,
 "nbformat_minor": 4
}
