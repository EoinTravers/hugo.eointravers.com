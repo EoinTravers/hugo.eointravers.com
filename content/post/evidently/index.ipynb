{
 "cells": [
  {
   "cell_type": "markdown",
   "metadata": {},
   "source": [
    "\n",
    "---\n",
    "title: \"Evidently: Simulate Evidence Accumulation Models in Python\"\n",
    "date: \"2020-01-23\"\n",
    "source: \"jupyter\"\n",
    "---\n"
   ]
  },
  {
   "cell_type": "markdown",
   "metadata": {},
   "source": [
    "I've just put the finishing touches on version 0.0.1 of `Evidently` \n",
    "is a python package for working with evidence accumulation models.\n",
    "\n",
    "In short, it lets you do things like this:\n",
    "\n",
    "![](schurger.gif)\n",
    "\n",
    "Since I spent all that time writing a Read Me page for the \n",
    "[GitHub repository](https://github.com/EoinTravers/Evidently),\n",
    "I've reproduced it below."
   ]
  },
  {
   "cell_type": "markdown",
   "metadata": {},
   "source": [
    "## Evidently \n",
    "\n",
    "Evidently  provides\n",
    "\n",
    "- Efficient functions for simulating data from a range of models.\n",
    "- Classes that make it easier to tweak model parameters and manage simulated data.\n",
    "- A consistent way to implement new models.\n",
    "- Visualisation, including interactive widgets for Jupyter.\n",
    "- Kernel density-based methods for estimating \n",
    "  the likelihood of real data under a given model/set of parameters,\n",
    "  allowing parameter estimation and model comparision.\n",
    "\n",
    "To see some of the features of Evidently in action,\n",
    "click the link below to launch a notebook packed full of interactive visualisations.\n",
    "\n",
    "[![Launch Binder](https://mybinder.org/badge_logo.svg)](https://mybinder.org/v2/gh/EoinTravers/Evidently/master?filepath=notebooks%2FInteractive%20Models.ipynb)\n",
    "\n",
    "## Installation\n",
    "\n",
    "Evidently isn't on PyPI yet, but you can install it directly from GitHub:\n",
    "\n",
    "`pip install git+https://github.com/EoinTravers/Evidently`"
   ]
  },
  {
   "cell_type": "markdown",
   "metadata": {},
   "source": [
    "## Basic Use"
   ]
  },
  {
   "cell_type": "code",
   "execution_count": null,
   "metadata": {},
   "outputs": [],
   "source": [
    "import pandas as pd\n",
    "import numpy as np\n",
    "import matplotlib.pyplot as plt\n",
    "import evidently"
   ]
  },
  {
   "cell_type": "markdown",
   "metadata": {},
   "source": [
    "## Set up a model and provide parameters"
   ]
  },
  {
   "cell_type": "code",
   "execution_count": null,
   "metadata": {},
   "outputs": [],
   "source": [
    "model = evidently.models.Diffusion(pars=[1., .5, -.25, .8, .4], max_time=5., dt=.001)\n",
    "model"
   ]
  },
  {
   "cell_type": "code",
   "execution_count": null,
   "metadata": {},
   "outputs": [],
   "source": [
    "model.describe_parameters()"
   ]
  },
  {
   "cell_type": "markdown",
   "metadata": {},
   "source": [
    "## Simulate data"
   ]
  },
  {
   "cell_type": "code",
   "execution_count": null,
   "metadata": {},
   "outputs": [],
   "source": [
    "X, responses, rts = model.do_dataset(n=1000)"
   ]
  },
  {
   "cell_type": "code",
   "execution_count": null,
   "metadata": {},
   "outputs": [],
   "source": [
    "X.head()"
   ]
  },
  {
   "cell_type": "code",
   "execution_count": null,
   "metadata": {},
   "outputs": [],
   "source": [
    "print(responses[:5]) \n",
    "print(rts[:5])"
   ]
  },
  {
   "cell_type": "markdown",
   "metadata": {},
   "source": [
    "## Visualise\n",
    "\n",
    "The `evidently.viz` submodule contains a collection of `matplotlib`-based functions for visualising model simulations. Here are a few examples."
   ]
  },
  {
   "cell_type": "code",
   "execution_count": null,
   "metadata": {},
   "outputs": [],
   "source": [
    "ax = evidently.viz.setup_ddm_plot(model) # Uses model info to draw bounds.\n",
    "evidently.viz.plot_trace_mean(model, X, ax=ax); # Plots simulations"
   ]
  },
  {
   "cell_type": "code",
   "execution_count": null,
   "metadata": {},
   "outputs": [],
   "source": [
    "ax = evidently.viz.setup_ddm_plot(model)\n",
    "evidently.viz.plot_traces(model, X, responses, rts, ax=ax, \n",
    "                          terminate=True, show_mean=True); # Show raw data"
   ]
  },
  {
   "cell_type": "code",
   "execution_count": null,
   "metadata": {},
   "outputs": [],
   "source": [
    "ax = evidently.viz.setup_ddm_plot(model)\n",
    "for resp in [1, -1]:\n",
    "    mask = (responses == resp) # Split by response\n",
    "    evidently.viz.plot_trace_mean(model, X[mask], ax=ax, label='Response: %i' % resp)\n",
    "plt.legend();"
   ]
  },
  {
   "cell_type": "code",
   "execution_count": null,
   "metadata": {},
   "outputs": [],
   "source": [
    "mX = evidently.utils.lock_to_movement(X, rts, duration=2) # Time-lock to threshold crossing\n",
    "ax = evidently.viz.setup_ddm_plot(model, time_range=(-2, 0))\n",
    "evidently.viz.plot_traces(model, mX, responses, rts, ax=ax, show_mean=True);"
   ]
  },
  {
   "cell_type": "code",
   "execution_count": null,
   "metadata": {},
   "outputs": [],
   "source": [
    "ax = evidently.viz.setup_ddm_plot(model, time_range=(-2, 0))\n",
    "for resp in [1, -1]:\n",
    "    mask = responses == resp\n",
    "    resp_mX = evidently.utils.lock_to_movement(X[mask], rts[mask])\n",
    "    evidently.viz.plot_trace_mean(model, resp_mX, ax=ax, label='Response: %i' % resp)\n",
    "plt.legend();"
   ]
  },
  {
   "cell_type": "markdown",
   "metadata": {},
   "source": [
    "There high-level functions can create multi-axis figures."
   ]
  },
  {
   "cell_type": "code",
   "execution_count": null,
   "metadata": {},
   "outputs": [],
   "source": [
    "evidently.viz.visualise_model(model, model_type='ddm', measure='means');"
   ]
  },
  {
   "cell_type": "markdown",
   "metadata": {},
   "source": [
    "## Interactive Visualisation\n",
    "\n",
    "Using the `ipywidgets` package, we can wrap high level visualisation functions like `accum.viz.visualise_ddm` in a call to `ipywidgets` to make them interactive.\n",
    "\n",
    "To try the interactive plots, download this repository to your own computer,\n",
    "or run the code in the cloud by visiting [this Binder notebook](https://mybinder.org/v2/gh/EoinTravers/Evidently/master?filepath=notebooks%2FInteractive%20Models.ipynb).\n",
    "\n",
    "[![Launch Binder](https://mybinder.org/badge_logo.svg)](https://mybinder.org/v2/gh/EoinTravers/Evidently/master?filepath=notebooks%2FInteractive%20Models.ipynb)"
   ]
  },
  {
   "cell_type": "code",
   "execution_count": null,
   "metadata": {},
   "outputs": [],
   "source": [
    "from ipywidgets import interact, FloatSlider\n",
    "def fs(v, low, high, step, desc=''):\n",
    "    return FloatSlider(value=v, min=low, max=high, step=step, description=desc, continuous_update=False)\n",
    "\n",
    "def ddm_simulation_plot(t0=1., v=.5, z=0., a=.5, c=.1):\n",
    "    model = evidently.Diffusion(pars=[t0, v, z, a, c])\n",
    "    evidently.viz.visualise_model(model)\n",
    "    title = 't0 = %.1f, Drift = %.1f, Bias = %.1f, Threshold = %.1f; Noise SD = %.1f' % (t0, v, z, a, c)\n",
    "    plt.suptitle(title, y=1.01)\n",
    "\n",
    "interact(ddm_simulation_plot,\n",
    "         t0  = fs(1., 0, 2., .1,   't0'),\n",
    "         v   = fs(.5, 0, 2., .1,   'Drift'),\n",
    "         z   = fs(0., -1., 1., .1,  'Bias'),\n",
    "         a     = fs(.5, 0., 2., .1,   'Threshold'),\n",
    "         c   = fs(.1, 0., 1., .1,   'Noise SD'));"
   ]
  },
  {
   "cell_type": "markdown",
   "metadata": {},
   "source": [
    "<!-- This will work once we run gen_readme.sh -->\n",
    "\n",
    "Here's the interactive output in GIF form:\n",
    "\n",
    "![](ddm.gif)"
   ]
  },
  {
   "cell_type": "markdown",
   "metadata": {},
   "source": [
    "# Other Models\n",
    "\n",
    "The following model classes are currently available:\n",
    "\n",
    "- Diffusion\n",
    "- Wald\n",
    "- HDiffision (Hierarchical Diffusion)\n",
    "- HWald (Hierarchical Wald)\n",
    "- Race\n",
    "\n",
    "See the [API](http://eointravers.com/code/evidently/api.html) for more details."
   ]
  },
  {
   "cell_type": "markdown",
   "metadata": {},
   "source": [
    "# Road Map\n",
    "\n",
    "\n",
    "## More Models!\n",
    "\n",
    "I have already implemented several of these models, but have to integrate them with the rest of the package.\n",
    "\n",
    "- Leaky Competing Accumulator model.\n",
    "- LCA/Race models with > 2 options.\n",
    "- Leaky/unstable Diffusion.\n",
    "- Time-varying parameters, including\n",
    "    - Collapsing decision bounds\n",
    "    - Time-varying evidence\n",
    "- Hierarchical models with regressors that differ across trials.\n",
    "\n",
    "## Reparameterisation\n",
    "\n",
    "Ideally, parameterisation with other packages used for fitting accumulator models \n",
    "such as [HDDM](http://ski.clps.brown.edu/hddm_docs/) and\n",
    "[PyDDM](https://pyddm.readthedocs.io/en/latest/), (for Python) \n",
    "and [rtdists](https://github.com/rtdists/rtdists) and \n",
    "[DMC](http://www.tascl.org/dmc.html) (for R). \n",
    "This would make it possible to efficiently fit models using those packages, \n",
    "then explore their dynamics here.\n",
    "\n",
    "Model probably should also specify default parameters.\n",
    "\n",
    "##  Visualisation\n",
    "\n",
    "There's no shortage of ways to visualise accumulator models. \n",
    "Future versions will include both more low-level plotting functions\n",
    "and high-level wrappers.\n",
    "\n",
    "I'll also be implementing vector field plots, e.g. Figure 2 of \n",
    "[Bogacz et al. (2007)](https://people.socsci.tau.ac.il/mu/usherlab/files/2014/03/m2.pdf).\n",
    "\n",
    "## Likelihood\n",
    "\n",
    "\n",
    "The `evidently.likelihood` model contains functions for estimating \n",
    "the likelihood of data $x$ under parameters $\\theta$ and model $M$,\n",
    "based on the \"likelihood-free\" technique introduced by \n",
    "[Turner and Sederberg (2007)](https://link.springer.com/article/10.3758/s13423-013-0530-0).\n",
    "These functions aren't properly tested yet,\n",
    "and haven't been documented.\n",
    "\n"
   ]
  }
 ],
 "metadata": {
  "kernelspec": {
   "display_name": "Python 3",
   "language": "python",
   "name": "python3"
  },
  "language_info": {
   "codemirror_mode": {
    "name": "ipython",
    "version": 3
   },
   "file_extension": ".py",
   "mimetype": "text/x-python",
   "name": "python",
   "nbconvert_exporter": "python",
   "pygments_lexer": "ipython3",
   "version": "3.7.4"
  }
 },
 "nbformat": 4,
 "nbformat_minor": 2
}
